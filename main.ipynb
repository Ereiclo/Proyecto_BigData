{
 "cells": [
  {
   "cell_type": "code",
   "execution_count": 2,
   "metadata": {},
   "outputs": [
    {
     "name": "stdout",
     "output_type": "stream",
     "text": [
      "La base de datos ya existe.\n"
     ]
    }
   ],
   "source": [
    "import os\n",
    "from preprocess_data.clean_index import clean\n",
    "from definitions.path import DATA_FILE_PATH_CLEAN\n",
    "from database_service.query import query\n",
    "from database_service.create_schema import create_schema\n",
    "from database_service.check_schema_existence import check_schema_existence\n",
    "from als_recommendation.create_utility_matrix import create_utility_matrix\n",
    "from als_recommendation.create_recommendations import recommend\n",
    "from utils.get_recomendations import get_recomendations\n",
    "from als_recommendation.get_loss import get_loss\n",
    "from collaborative_recommendation.generate_close_products import generate_close_products\n",
    "from collaborative_recommendation.create_recomendations import create_recomendations\n",
    "\n",
    "\n",
    "if check_schema_existence():\n",
    "    print(\"La base de datos ya existe.\")\n",
    "else:\n",
    "    print(\"La base de datos no existe. Creando...\")\n",
    "    create_schema()\n",
    "\n",
    "\n",
    "\n"
   ]
  },
  {
   "cell_type": "code",
   "execution_count": null,
   "metadata": {},
   "outputs": [],
   "source": [
    "file = create_utility_matrix('2021-07-01', '2021-07-10')\n",
    "\n",
    "print(f\"El loss es {get_loss(file)}\")\n",
    "path = recommend(file)\n",
    "# print(path)\n",
    "\n",
    "get_recomendations(path)"
   ]
  },
  {
   "cell_type": "code",
   "execution_count": null,
   "metadata": {},
   "outputs": [],
   "source": [
    "\n",
    "from collaborative_recommendation.create_recomendations import create_recomendations\n",
    "\n",
    "\n",
    "path = create_recomendations('2021-07-01', '2021-07-10')\n",
    "print(path)\n"
   ]
  },
  {
   "cell_type": "code",
   "execution_count": null,
   "metadata": {},
   "outputs": [],
   "source": [
    "\n",
    "from utils.get_recomendations import get_recomendations\n",
    "\n",
    "\n",
    "get_recomendations(path)"
   ]
  }
 ],
 "metadata": {
  "kernelspec": {
   "display_name": "Python 3",
   "language": "python",
   "name": "python3"
  },
  "language_info": {
   "codemirror_mode": {
    "name": "ipython",
    "version": 3
   },
   "file_extension": ".py",
   "mimetype": "text/x-python",
   "name": "python",
   "nbconvert_exporter": "python",
   "pygments_lexer": "ipython3",
   "version": "3.10.12"
  },
  "orig_nbformat": 4
 },
 "nbformat": 4,
 "nbformat_minor": 2
}
