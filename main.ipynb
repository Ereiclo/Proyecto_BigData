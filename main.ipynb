{
 "cells": [
  {
   "cell_type": "code",
   "execution_count": 1,
   "metadata": {},
   "outputs": [
    {
     "name": "stdout",
     "output_type": "stream",
     "text": [
      "La base de datos ya existe.\n"
     ]
    }
   ],
   "source": [
    "import os\n",
    "from preprocess_data.clean_index import clean\n",
    "from definitions.path import DATA_FILE_PATH_CLEAN\n",
    "from database_service.query import query\n",
    "from database_service.create_schema import create_schema\n",
    "from database_service.check_schema_existence import check_schema_existence\n",
    "from als_recommendation.create_utility_matrix import create_utility_matrix\n",
    "from als_recommendation.create_recommendations import recommend\n",
    "from utils.get_recomendations import get_recomendations\n",
    "from als_recommendation.get_loss import get_loss\n",
    "from collaborative_recommendation.generate_close_products import generate_close_products\n",
    "from collaborative_recommendation.create_recomendations import create_recomendations\n",
    "\n",
    "\n",
    "if check_schema_existence():\n",
    "    print(\"La base de datos ya existe.\")\n",
    "else:\n",
    "    create_schema()\n",
    "\n",
    "\n",
    "\n"
   ]
  },
  {
   "cell_type": "code",
   "execution_count": 8,
   "metadata": {},
   "outputs": [
    {
     "name": "stdout",
     "output_type": "stream",
     "text": [
      "La matriz de utilidad ya existe.\n"
     ]
    },
    {
     "name": "stderr",
     "output_type": "stream",
     "text": [
      "23/11/18 13:52:37 WARN DAGScheduler: Broadcasting large task binary with size 1039.9 KiB\n"
     ]
    },
    {
     "name": "stdout",
     "output_type": "stream",
     "text": [
      "El loss es 32.32256615674342\n",
      "El loss es 32.325706959907066\n",
      "El loss es 32.39211674627473\n"
     ]
    },
    {
     "name": "stderr",
     "output_type": "stream",
     "text": [
      "23/11/18 13:52:47 WARN DAGScheduler: Broadcasting large task binary with size 1012.0 KiB\n",
      "23/11/18 13:52:47 WARN DAGScheduler: Broadcasting large task binary with size 1072.1 KiB\n",
      "23/11/18 13:52:47 WARN DAGScheduler: Broadcasting large task binary with size 1012.9 KiB\n",
      "23/11/18 13:52:47 WARN DAGScheduler: Broadcasting large task binary with size 1132.1 KiB\n",
      "23/11/18 13:52:47 WARN DAGScheduler: Broadcasting large task binary with size 1072.9 KiB\n",
      "23/11/18 13:52:47 WARN DAGScheduler: Broadcasting large task binary with size 1192.1 KiB\n",
      "23/11/18 13:52:47 WARN DAGScheduler: Broadcasting large task binary with size 1133.0 KiB\n",
      "23/11/18 13:52:47 WARN DAGScheduler: Broadcasting large task binary with size 1252.1 KiB\n",
      "23/11/18 13:52:47 WARN DAGScheduler: Broadcasting large task binary with size 1193.0 KiB\n",
      "23/11/18 13:52:47 WARN DAGScheduler: Broadcasting large task binary with size 1253.6 KiB\n",
      "23/11/18 13:52:47 WARN DAGScheduler: Broadcasting large task binary with size 1193.6 KiB\n",
      "23/11/18 13:52:48 WARN DAGScheduler: Broadcasting large task binary with size 1261.8 KiB\n",
      "23/11/18 13:52:48 WARN DAGScheduler: Broadcasting large task binary with size 1201.8 KiB\n",
      "23/11/18 13:52:48 WARN DAGScheduler: Broadcasting large task binary with size 1306.5 KiB\n"
     ]
    },
    {
     "name": "stdout",
     "output_type": "stream",
     "text": [
      "El loss es 32.32210292496228\n"
     ]
    }
   ],
   "source": [
    "file = create_utility_matrix('2021-07-01', '2021-07-10')\n",
    "\n",
    "print(f\"El loss es {get_loss(file,rank=100,maxIter=11)}\")\n",
    "print(f\"El loss es {get_loss(file,rank=80,maxIter=11)}\")\n",
    "print(f\"El loss es {get_loss(file,rank=10,maxIter=5)}\")\n",
    "print(f\"El loss es {get_loss(file,rank=120,maxIter=10,alpha=0.8)}\")\n"
   ]
  },
  {
   "cell_type": "code",
   "execution_count": 10,
   "metadata": {},
   "outputs": [
    {
     "name": "stdout",
     "output_type": "stream",
     "text": [
      "La matriz de utilidad ya existe.\n"
     ]
    },
    {
     "name": "stderr",
     "output_type": "stream",
     "text": [
      "23/11/19 00:00:56 WARN Utils: Your hostname, eric-computer resolves to a loopback address: 127.0.1.1; using 192.168.1.37 instead (on interface enp63s0)\n",
      "23/11/19 00:00:56 WARN Utils: Set SPARK_LOCAL_IP if you need to bind to another address\n",
      "Setting default log level to \"WARN\".\n",
      "To adjust logging level use sc.setLogLevel(newLevel). For SparkR, use setLogLevel(newLevel).\n",
      "23/11/19 00:00:57 WARN NativeCodeLoader: Unable to load native-hadoop library for your platform... using builtin-java classes where applicable\n",
      "                                                                                \r"
     ]
    },
    {
     "name": "stdout",
     "output_type": "stream",
     "text": [
      "2021-07-01_2021-07-10.txt\n",
      "Creando recomendaciones...\n"
     ]
    },
    {
     "name": "stderr",
     "output_type": "stream",
     "text": [
      "100%|██████████| 1997/1997 [21:27<00:00,  1.55clientes/s]                       "
     ]
    },
    {
     "name": "stdout",
     "output_type": "stream",
     "text": [
      "/home/ereiclo/universidad/2023-2/bigdata/proyecto/recomendations/2021-07-01_2021-07-10.txt.als\n"
     ]
    },
    {
     "name": "stderr",
     "output_type": "stream",
     "text": [
      "\n"
     ]
    }
   ],
   "source": [
    "\n",
    "file = create_utility_matrix('2021-07-01', '2021-07-10')\n",
    "path = recommend(file)\n",
    "print(path)"
   ]
  },
  {
   "cell_type": "code",
   "execution_count": 3,
   "metadata": {},
   "outputs": [
    {
     "name": "stdout",
     "output_type": "stream",
     "text": [
      "Procesando vectores de categoria\n"
     ]
    },
    {
     "name": "stderr",
     "output_type": "stream",
     "text": [
      "100%|██████████| 715/715 [00:22<00:00, 31.22categorias/s]\n"
     ]
    },
    {
     "name": "stdout",
     "output_type": "stream",
     "text": [
      "Generando productos similares...\n"
     ]
    },
    {
     "name": "stderr",
     "output_type": "stream",
     "text": [
      "100%|██████████| 715/715 [00:02<00:00, 285.03categorias/s]\n"
     ]
    },
    {
     "name": "stdout",
     "output_type": "stream",
     "text": [
      "2021-07-01_2021-07-10.txt\n",
      "Creando recomendaciones...\n"
     ]
    },
    {
     "name": "stderr",
     "output_type": "stream",
     "text": [
      "100%|██████████| 3634/3634 [00:41<00:00, 86.94clientes/s]"
     ]
    },
    {
     "name": "stdout",
     "output_type": "stream",
     "text": [
      "/home/ereiclo/universidad/2023-2/bigdata/proyecto/recomendations/2021-07-01_2021-07-10.txt.collaborative\n"
     ]
    },
    {
     "name": "stderr",
     "output_type": "stream",
     "text": [
      "\n"
     ]
    }
   ],
   "source": [
    "\n",
    "from collaborative_recommendation.create_recomendations import create_recomendations\n",
    "from utils.get_recomendations import get_recomendations\n",
    "\n",
    "path = create_recomendations('2021-07-01', '2021-07-10')\n",
    "print(path)"
   ]
  },
  {
   "cell_type": "code",
   "execution_count": 3,
   "metadata": {},
   "outputs": [
    {
     "name": "stdout",
     "output_type": "stream",
     "text": [
      "2021-07-01 00:00:00\n",
      "2021-07-21 00:00:00\n",
      "2021-08-10 00:00:00\n"
     ]
    }
   ],
   "source": [
    "# create an array of 10 tuples (start_date, end_date) with min fecha_min and max fecha_max of 20 days span each\n",
    "import datetime\n",
    "\n",
    "fecha_min = '2021-07-01'\n",
    "fecha_max = '2023-06-30'\n",
    "\n",
    "current = datetime.datetime.strptime(fecha_min, '%Y-%m-%d')\n",
    "\n",
    "dates = []\n",
    "for i in range(3):\n",
    "    print(current)\n",
    "    start = current\n",
    "    end = (start +\n",
    "           datetime.timedelta(days=19))\n",
    "    current = (end + datetime.timedelta(days=1))\n",
    "    dates.append((start.strftime('%Y-%m-%d'), end.strftime('%Y-%m-%d')))"
   ]
  },
  {
   "cell_type": "code",
   "execution_count": null,
   "metadata": {},
   "outputs": [],
   "source": [
    "for start, end in dates:\n",
    "    file = create_utility_matrix(start, end)\n",
    "    path = recommend(file)\n",
    "    print(path)"
   ]
  },
  {
   "cell_type": "code",
   "execution_count": 4,
   "metadata": {},
   "outputs": [
    {
     "name": "stdout",
     "output_type": "stream",
     "text": [
      "Procesando vectores de categoria\n"
     ]
    },
    {
     "name": "stderr",
     "output_type": "stream",
     "text": [
      "100%|██████████| 780/780 [00:33<00:00, 23.12categorias/s]\n"
     ]
    },
    {
     "name": "stdout",
     "output_type": "stream",
     "text": [
      "Generando productos similares...\n"
     ]
    },
    {
     "name": "stderr",
     "output_type": "stream",
     "text": [
      "100%|██████████| 780/780 [00:03<00:00, 195.02categorias/s]\n"
     ]
    },
    {
     "name": "stdout",
     "output_type": "stream",
     "text": [
      "2021-07-01_2021-07-20.txt\n",
      "Creando recomendaciones...\n"
     ]
    },
    {
     "name": "stderr",
     "output_type": "stream",
     "text": [
      "100%|██████████| 5738/5738 [01:34<00:00, 60.43clientes/s]\n"
     ]
    },
    {
     "name": "stdout",
     "output_type": "stream",
     "text": [
      "/home/ereiclo/universidad/2023-2/bigdata/proyecto/recomendations/2021-07-01_2021-07-20.txt.collaborative\n",
      "Procesando vectores de categoria\n"
     ]
    },
    {
     "name": "stderr",
     "output_type": "stream",
     "text": [
      "100%|██████████| 798/798 [00:33<00:00, 24.02categorias/s]\n"
     ]
    },
    {
     "name": "stdout",
     "output_type": "stream",
     "text": [
      "Generando productos similares...\n"
     ]
    },
    {
     "name": "stderr",
     "output_type": "stream",
     "text": [
      "100%|██████████| 798/798 [00:04<00:00, 190.86categorias/s]\n"
     ]
    },
    {
     "name": "stdout",
     "output_type": "stream",
     "text": [
      "2021-07-21_2021-08-09.txt\n",
      "Creando recomendaciones...\n"
     ]
    },
    {
     "name": "stderr",
     "output_type": "stream",
     "text": [
      "100%|██████████| 5510/5510 [01:25<00:00, 64.48clientes/s]\n"
     ]
    },
    {
     "name": "stdout",
     "output_type": "stream",
     "text": [
      "/home/ereiclo/universidad/2023-2/bigdata/proyecto/recomendations/2021-07-21_2021-08-09.txt.collaborative\n",
      "Procesando vectores de categoria\n"
     ]
    },
    {
     "name": "stderr",
     "output_type": "stream",
     "text": [
      "100%|██████████| 755/755 [00:24<00:00, 30.38categorias/s]\n"
     ]
    },
    {
     "name": "stdout",
     "output_type": "stream",
     "text": [
      "Generando productos similares...\n"
     ]
    },
    {
     "name": "stderr",
     "output_type": "stream",
     "text": [
      "100%|██████████| 755/755 [00:02<00:00, 284.95categorias/s]\n"
     ]
    },
    {
     "name": "stdout",
     "output_type": "stream",
     "text": [
      "2021-08-10_2021-08-29.txt\n",
      "Creando recomendaciones...\n"
     ]
    },
    {
     "name": "stderr",
     "output_type": "stream",
     "text": [
      "100%|██████████| 4664/4664 [01:00<00:00, 77.69clientes/s]"
     ]
    },
    {
     "name": "stdout",
     "output_type": "stream",
     "text": [
      "/home/ereiclo/universidad/2023-2/bigdata/proyecto/recomendations/2021-08-10_2021-08-29.txt.collaborative\n"
     ]
    },
    {
     "name": "stderr",
     "output_type": "stream",
     "text": [
      "\n"
     ]
    }
   ],
   "source": [
    "from collaborative_recommendation.create_recomendations import create_recomendations\n",
    "from utils.get_recomendations import get_recomendations\n",
    "\n",
    "for start, end in dates:\n",
    "    path = create_recomendations(start, end)\n",
    "    print(path)\n"
   ]
  },
  {
   "cell_type": "code",
   "execution_count": 11,
   "metadata": {},
   "outputs": [
    {
     "name": "stdout",
     "output_type": "stream",
     "text": [
      "2021-07-21_2021-08-09.txt.als\n"
     ]
    },
    {
     "name": "stderr",
     "output_type": "stream",
     "text": [
      "100%|██████████| 3035/3035 [16:05<00:00,  3.14clientes/s]\n"
     ]
    },
    {
     "name": "stdout",
     "output_type": "stream",
     "text": [
      "2021-07-01_2021-07-10.txt.als\n"
     ]
    },
    {
     "name": "stderr",
     "output_type": "stream",
     "text": [
      "100%|██████████| 1997/1997 [09:07<00:00,  3.65clientes/s]\n"
     ]
    },
    {
     "name": "stdout",
     "output_type": "stream",
     "text": [
      "2021-07-01_2021-07-10.txt.collaborative\n"
     ]
    },
    {
     "name": "stderr",
     "output_type": "stream",
     "text": [
      "100%|██████████| 1997/1997 [06:40<00:00,  4.98clientes/s]\n"
     ]
    },
    {
     "name": "stdout",
     "output_type": "stream",
     "text": [
      "2021-08-10_2021-08-29.txt.collaborative\n"
     ]
    },
    {
     "name": "stderr",
     "output_type": "stream",
     "text": [
      "100%|██████████| 2447/2447 [08:03<00:00,  5.06clientes/s]\n"
     ]
    },
    {
     "name": "stdout",
     "output_type": "stream",
     "text": [
      "2021-07-01_2021-07-20.txt.collaborative\n"
     ]
    },
    {
     "name": "stderr",
     "output_type": "stream",
     "text": [
      "100%|██████████| 3353/3353 [14:27<00:00,  3.86clientes/s]\n"
     ]
    },
    {
     "name": "stdout",
     "output_type": "stream",
     "text": [
      "2021-07-01_2021-07-20.txt.als\n"
     ]
    },
    {
     "name": "stderr",
     "output_type": "stream",
     "text": [
      "100%|██████████| 3353/3353 [20:00<00:00,  2.79clientes/s]\n"
     ]
    },
    {
     "name": "stdout",
     "output_type": "stream",
     "text": [
      "2021-08-10_2021-08-29.txt.als\n"
     ]
    },
    {
     "name": "stderr",
     "output_type": "stream",
     "text": [
      "100%|██████████| 2447/2447 [12:21<00:00,  3.30clientes/s]\n"
     ]
    },
    {
     "name": "stdout",
     "output_type": "stream",
     "text": [
      "2021-07-21_2021-08-09.txt.collaborative\n"
     ]
    },
    {
     "name": "stderr",
     "output_type": "stream",
     "text": [
      "100%|██████████| 3035/3035 [10:03<00:00,  5.03clientes/s]\n"
     ]
    }
   ],
   "source": [
    "# get all files of recommendations\n",
    "import os\n",
    "from definitions.path import RECOMENDATIONS_RESULT_PATH\n",
    "\n",
    "\n",
    "files = os.listdir(RECOMENDATIONS_RESULT_PATH)\n",
    "\n",
    "\n",
    "for file in files:\n",
    "    print(file)\n",
    "    # get last extension of file\n",
    "    extension = file.split('.')[-1]\n",
    "    # print(extension)\n",
    "    get_recomendations(RECOMENDATIONS_RESULT_PATH + \"/\" + file, extension)"
   ]
  }
 ],
 "metadata": {
  "kernelspec": {
   "display_name": "Python 3",
   "language": "python",
   "name": "python3"
  },
  "language_info": {
   "codemirror_mode": {
    "name": "ipython",
    "version": 3
   },
   "file_extension": ".py",
   "mimetype": "text/x-python",
   "name": "python",
   "nbconvert_exporter": "python",
   "pygments_lexer": "ipython3",
   "version": "3.10.12"
  },
  "orig_nbformat": 4
 },
 "nbformat": 4,
 "nbformat_minor": 2
}
