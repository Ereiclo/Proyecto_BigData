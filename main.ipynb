{
 "cells": [
  {
   "cell_type": "code",
   "execution_count": null,
   "metadata": {},
   "outputs": [],
   "source": [
    "import os\n",
    "from preprocess_data.clean_index import clean\n",
    "from definitions.path import DATA_FILE_PATH_CLEAN\n",
    "from database_service.query import query\n",
    "from database_service.create_schema import create_schema\n",
    "from database_service.check_schema_existence import check_schema_existence\n",
    "from als_recommendation.create_utility_matrix import create_utility_matrix\n",
    "from als_recommendation.create_recommendations import recommend\n",
    "from als_recommendation.get_recomendations import get_recomendations\n",
    "from als_recommendation.get_loss import get_loss\n",
    "from collaborative_recommendation.generate_close_products import generate_close_products\n",
    "from collaborative_recommendation.create_recomendations import create_recomendations\n",
    "\n",
    "\n",
    "if check_schema_existence():\n",
    "    print(\"La base de datos ya existe.\")\n",
    "else:\n",
    "    print(\"La base de datos no existe. Creando...\")\n",
    "    create_schema()\n",
    "\n",
    "# file = create_utility_matrix('2021-07-01', '2021-07-10')\n",
    "\n",
    "# print(f\"El loss es {get_loss(file)}\")\n",
    "# path = recommend(file)\n",
    "# print(path)\n",
    "\n",
    "# get_recomendations(path)\n",
    "\n",
    "# create_recomendations('2021-07-01', '2021-07-10')\n",
    "\n",
    "# for data in query(\"select * from compras limit 5;\"):\n",
    "# print(data)\n",
    "# print(\"----\")\n",
    "\n"
   ]
  }
 ],
 "metadata": {
  "language_info": {
   "name": "python"
  },
  "orig_nbformat": 4
 },
 "nbformat": 4,
 "nbformat_minor": 2
}
