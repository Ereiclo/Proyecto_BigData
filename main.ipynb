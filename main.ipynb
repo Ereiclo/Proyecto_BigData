{
 "cells": [
  {
   "cell_type": "code",
   "execution_count": 4,
   "metadata": {},
   "outputs": [
    {
     "name": "stdout",
     "output_type": "stream",
     "text": [
      "La base de datos ya existe.\n"
     ]
    }
   ],
   "source": [
    "import os\n",
    "from preprocess_data.clean_index import clean\n",
    "from definitions.path import DATA_FILE_PATH_CLEAN\n",
    "from database_service.query import query\n",
    "from database_service.create_schema import create_schema\n",
    "from database_service.check_schema_existence import check_schema_existence\n",
    "from als_recommendation.create_utility_matrix import create_utility_matrix\n",
    "from als_recommendation.create_recommendations import recommend\n",
    "from utils.get_recomendations import get_recomendations\n",
    "from als_recommendation.get_loss import get_loss\n",
    "from collaborative_recommendation.generate_close_products import generate_close_products\n",
    "from collaborative_recommendation.create_recomendations import create_recomendations\n",
    "\n",
    "\n",
    "if check_schema_existence():\n",
    "    print(\"La base de datos ya existe.\")\n",
    "else:\n",
    "    print(\"La base de datos no existe. Creando...\")\n",
    "    create_schema()\n",
    "\n",
    "# file = create_utility_matrix('2021-07-01', '2021-07-10')\n",
    "\n",
    "# print(f\"El loss es {get_loss(file)}\")\n",
    "# path = recommend(file)\n",
    "# print(path)\n",
    "\n",
    "# get_recomendations(path)\n",
    "\n",
    "# create_recomendations('2021-07-01', '2021-07-10')\n",
    "\n",
    "# for data in query(\"select * from compras limit 5;\"):\n",
    "# print(data)\n",
    "# print(\"----\")\n",
    "\n"
   ]
  },
  {
   "cell_type": "code",
   "execution_count": 5,
   "metadata": {},
   "outputs": [
    {
     "name": "stdout",
     "output_type": "stream",
     "text": [
      "Procesando vectores de categoria\n"
     ]
    },
    {
     "name": "stderr",
     "output_type": "stream",
     "text": [
      "  5%|▍         | 34/715 [00:00<00:19, 35.68categorias/s]"
     ]
    },
    {
     "ename": "KeyboardInterrupt",
     "evalue": "",
     "output_type": "error",
     "traceback": [
      "\u001b[0;31m---------------------------------------------------------------------------\u001b[0m",
      "\u001b[0;31mKeyboardInterrupt\u001b[0m                         Traceback (most recent call last)",
      "Cell \u001b[0;32mIn[5], line 1\u001b[0m\n\u001b[0;32m----> 1\u001b[0m path \u001b[39m=\u001b[39m create_recomendations(\u001b[39m'\u001b[39;49m\u001b[39m2021-07-01\u001b[39;49m\u001b[39m'\u001b[39;49m, \u001b[39m'\u001b[39;49m\u001b[39m2021-07-10\u001b[39;49m\u001b[39m'\u001b[39;49m)\n\u001b[1;32m      2\u001b[0m \u001b[39mprint\u001b[39m(path)\n",
      "File \u001b[0;32m~/universidad/2023-2/bigdata/proyecto/collaborative_recommendation/create_recomendations.py:45\u001b[0m, in \u001b[0;36mcreate_recomendations\u001b[0;34m(start, end, best_items)\u001b[0m\n\u001b[1;32m     38\u001b[0m \u001b[39m# filename = f\"{UTILITY_MATRIXES_PATH}/{start}_{end}.txt\"\u001b[39;00m\n\u001b[1;32m     39\u001b[0m \n\u001b[1;32m     40\u001b[0m \u001b[39m# if os.path.exists(filename):\u001b[39;00m\n\u001b[1;32m     41\u001b[0m \u001b[39m# print(\"La matriz de utilidad ya existe.\")\u001b[39;00m\n\u001b[1;32m     42\u001b[0m \u001b[39m# return filename\u001b[39;00m\n\u001b[1;32m     44\u001b[0m n \u001b[39m=\u001b[39m best_items\n\u001b[0;32m---> 45\u001b[0m dictionary_of_close_product \u001b[39m=\u001b[39m generate_close_products(start, end)\n\u001b[1;32m     46\u001b[0m \u001b[39m# dictionary_of_close_product[id] =  close_products (en id)\u001b[39;00m\n\u001b[1;32m     48\u001b[0m \u001b[39mif\u001b[39;00m \u001b[39mnot\u001b[39;00m os\u001b[39m.\u001b[39mpath\u001b[39m.\u001b[39mexists(RECOMENDATIONS_RESULT_PATH):\n",
      "File \u001b[0;32m~/universidad/2023-2/bigdata/proyecto/collaborative_recommendation/generate_close_products.py:75\u001b[0m, in \u001b[0;36mgenerate_close_products\u001b[0;34m(start, end)\u001b[0m\n\u001b[1;32m     73\u001b[0m \u001b[39mdef\u001b[39;00m \u001b[39mgenerate_close_products\u001b[39m(start, end):\n\u001b[0;32m---> 75\u001b[0m     vectors \u001b[39m=\u001b[39m create_categories_vector(start, end)\n\u001b[1;32m     77\u001b[0m     \u001b[39mprint\u001b[39m(\u001b[39m\"\u001b[39m\u001b[39mGenerando productos similares...\u001b[39m\u001b[39m\"\u001b[39m)\n\u001b[1;32m     78\u001b[0m     progress_bar \u001b[39m=\u001b[39m tqdm(total\u001b[39m=\u001b[39m\u001b[39mlen\u001b[39m(vectors), unit\u001b[39m=\u001b[39m\u001b[39m'\u001b[39m\u001b[39mcategorias\u001b[39m\u001b[39m'\u001b[39m)\n",
      "File \u001b[0;32m~/universidad/2023-2/bigdata/proyecto/collaborative_recommendation/generate_close_products.py:39\u001b[0m, in \u001b[0;36mcreate_categories_vector\u001b[0;34m(start, end)\u001b[0m\n\u001b[1;32m     30\u001b[0m \u001b[39m# print(f\"\"\"\u001b[39;00m\n\u001b[1;32m     31\u001b[0m \u001b[39m#       select min(importelinea),max(importelinea),avg(importelinea) ,count(*)\u001b[39;00m\n\u001b[1;32m     32\u001b[0m \u001b[39m#       from compras where\u001b[39;00m\n\u001b[1;32m     33\u001b[0m \u001b[39m#       categoria='{category['categoria']}' and subcategoria = '{category['subcategoria']}';\"\"\")\u001b[39;00m\n\u001b[1;32m     34\u001b[0m temp \u001b[39m=\u001b[39m query(\u001b[39mf\u001b[39m\u001b[39m\"\"\"\u001b[39m\n\u001b[1;32m     35\u001b[0m \u001b[39m      select min(importelinea),max(importelinea),avg(importelinea) ,count(*)\u001b[39m\n\u001b[1;32m     36\u001b[0m \u001b[39m      from compras where \u001b[39m\n\u001b[1;32m     37\u001b[0m \u001b[39m      categoria =\u001b[39m\u001b[39m'\u001b[39m\u001b[39m{\u001b[39;00mcategory[\u001b[39m'\u001b[39m\u001b[39mcategoria\u001b[39m\u001b[39m'\u001b[39m]\u001b[39m}\u001b[39;00m\u001b[39m'\u001b[39m\u001b[39m and subcategoria = \u001b[39m\u001b[39m'\u001b[39m\u001b[39m{\u001b[39;00mcategory[\u001b[39m'\u001b[39m\u001b[39msubcategoria\u001b[39m\u001b[39m'\u001b[39m]\u001b[39m}\u001b[39;00m\u001b[39m'\u001b[39m\u001b[39m and \u001b[39m\u001b[39m{\u001b[39;00mbase\u001b[39m}\u001b[39;00m\u001b[39m;\u001b[39m\u001b[39m\"\"\"\u001b[39m)[\u001b[39m0\u001b[39m]\n\u001b[0;32m---> 39\u001b[0m temp2 \u001b[39m=\u001b[39m query(\u001b[39mf\u001b[39;49m\u001b[39m\"\"\"\u001b[39;49m\n\u001b[1;32m     40\u001b[0m \u001b[39m      select count(*) \u001b[39;49m\n\u001b[1;32m     41\u001b[0m \u001b[39m      from compras where \u001b[39;49m\n\u001b[1;32m     42\u001b[0m \u001b[39m      categoria =\u001b[39;49m\u001b[39m'\u001b[39;49m\u001b[39m{\u001b[39;49;00mcategory[\u001b[39m'\u001b[39;49m\u001b[39mcategoria\u001b[39;49m\u001b[39m'\u001b[39;49m]\u001b[39m}\u001b[39;49;00m\u001b[39m'\u001b[39;49m\u001b[39m and subcategoria = \u001b[39;49m\u001b[39m'\u001b[39;49m\u001b[39m{\u001b[39;49;00mcategory[\u001b[39m'\u001b[39;49m\u001b[39msubcategoria\u001b[39;49m\u001b[39m'\u001b[39;49m]\u001b[39m}\u001b[39;49;00m\u001b[39m'\u001b[39;49m\u001b[39m and porcdescuento > 0 and \u001b[39;49m\u001b[39m{\u001b[39;49;00mbase\u001b[39m}\u001b[39;49;00m\u001b[39m;\u001b[39;49m\n\u001b[1;32m     43\u001b[0m \u001b[39m\u001b[39;49m\u001b[39m\"\"\"\u001b[39;49m)[\u001b[39m0\u001b[39m]\n\u001b[1;32m     45\u001b[0m vector\u001b[39m.\u001b[39mappend((categories_dictionary[join(category[\u001b[39m\"\u001b[39m\u001b[39mcategoria\u001b[39m\u001b[39m\"\u001b[39m], category[\u001b[39m\"\u001b[39m\u001b[39msubcategoria\u001b[39m\u001b[39m\"\u001b[39m])], np\u001b[39m.\u001b[39marray([category_id, temp[\u001b[39m'\u001b[39m\u001b[39mmin\u001b[39m\u001b[39m'\u001b[39m],\n\u001b[1;32m     46\u001b[0m               temp[\u001b[39m'\u001b[39m\u001b[39mmax\u001b[39m\u001b[39m'\u001b[39m], temp[\u001b[39m'\u001b[39m\u001b[39mavg\u001b[39m\u001b[39m'\u001b[39m],  temp2[\u001b[39m'\u001b[39m\u001b[39mcount\u001b[39m\u001b[39m'\u001b[39m] \u001b[39m/\u001b[39m temp[\u001b[39m'\u001b[39m\u001b[39mcount\u001b[39m\u001b[39m'\u001b[39m]\u001b[39m*\u001b[39m\u001b[39m100\u001b[39m])))\n\u001b[1;32m     47\u001b[0m progress_bar\u001b[39m.\u001b[39mupdate(\u001b[39m1\u001b[39m)\n",
      "File \u001b[0;32m~/universidad/2023-2/bigdata/proyecto/database_service/query.py:6\u001b[0m, in \u001b[0;36mquery\u001b[0;34m(sql)\u001b[0m\n\u001b[1;32m      4\u001b[0m \u001b[39mdef\u001b[39;00m \u001b[39mquery\u001b[39m(sql):\n\u001b[1;32m      5\u001b[0m     conn, cur \u001b[39m=\u001b[39m get_connection()\n\u001b[0;32m----> 6\u001b[0m     cur\u001b[39m.\u001b[39;49mexecute(sql)\n\u001b[1;32m      7\u001b[0m     \u001b[39m# get rows as dictionaries\u001b[39;00m\n\u001b[1;32m      8\u001b[0m     \u001b[39m# cur.execute(sql)\u001b[39;00m\n\u001b[1;32m      9\u001b[0m     \u001b[39m# rows = cur.fetchall()\u001b[39;00m\n\u001b[1;32m     10\u001b[0m     \u001b[39m# columns = [desc[0] for desc in cur.description]\u001b[39;00m\n\u001b[1;32m     11\u001b[0m     \u001b[39m# rows = [dict(zip(columns, row)) for row in rows]\u001b[39;00m\n\u001b[1;32m     12\u001b[0m     rows \u001b[39m=\u001b[39m cur\u001b[39m.\u001b[39mfetchall()\n",
      "File \u001b[0;32m~/.local/lib/python3.10/site-packages/psycopg2/extras.py:236\u001b[0m, in \u001b[0;36mRealDictCursor.execute\u001b[0;34m(self, query, vars)\u001b[0m\n\u001b[1;32m    234\u001b[0m \u001b[39mself\u001b[39m\u001b[39m.\u001b[39mcolumn_mapping \u001b[39m=\u001b[39m []\n\u001b[1;32m    235\u001b[0m \u001b[39mself\u001b[39m\u001b[39m.\u001b[39m_query_executed \u001b[39m=\u001b[39m \u001b[39mTrue\u001b[39;00m\n\u001b[0;32m--> 236\u001b[0m \u001b[39mreturn\u001b[39;00m \u001b[39msuper\u001b[39;49m()\u001b[39m.\u001b[39;49mexecute(query, \u001b[39mvars\u001b[39;49m)\n",
      "File \u001b[0;32m/usr/lib/python3.10/encodings/utf_8.py:15\u001b[0m, in \u001b[0;36mdecode\u001b[0;34m(input, errors)\u001b[0m\n\u001b[1;32m     11\u001b[0m \u001b[39m### Codec APIs\u001b[39;00m\n\u001b[1;32m     13\u001b[0m encode \u001b[39m=\u001b[39m codecs\u001b[39m.\u001b[39mutf_8_encode\n\u001b[0;32m---> 15\u001b[0m \u001b[39mdef\u001b[39;00m \u001b[39mdecode\u001b[39m(\u001b[39minput\u001b[39m, errors\u001b[39m=\u001b[39m\u001b[39m'\u001b[39m\u001b[39mstrict\u001b[39m\u001b[39m'\u001b[39m):\n\u001b[1;32m     16\u001b[0m     \u001b[39mreturn\u001b[39;00m codecs\u001b[39m.\u001b[39mutf_8_decode(\u001b[39minput\u001b[39m, errors, \u001b[39mTrue\u001b[39;00m)\n\u001b[1;32m     18\u001b[0m \u001b[39mclass\u001b[39;00m \u001b[39mIncrementalEncoder\u001b[39;00m(codecs\u001b[39m.\u001b[39mIncrementalEncoder):\n",
      "\u001b[0;31mKeyboardInterrupt\u001b[0m: "
     ]
    }
   ],
   "source": [
    "\n",
    "path = create_recomendations('2021-07-01', '2021-07-10')\n",
    "print(path)\n"
   ]
  },
  {
   "cell_type": "code",
   "execution_count": null,
   "metadata": {},
   "outputs": [],
   "source": [
    "get_recomendations(path)"
   ]
  }
 ],
 "metadata": {
  "kernelspec": {
   "display_name": "Python 3",
   "language": "python",
   "name": "python3"
  },
  "language_info": {
   "codemirror_mode": {
    "name": "ipython",
    "version": 3
   },
   "file_extension": ".py",
   "mimetype": "text/x-python",
   "name": "python",
   "nbconvert_exporter": "python",
   "pygments_lexer": "ipython3",
   "version": "3.10.12"
  },
  "orig_nbformat": 4
 },
 "nbformat": 4,
 "nbformat_minor": 2
}
